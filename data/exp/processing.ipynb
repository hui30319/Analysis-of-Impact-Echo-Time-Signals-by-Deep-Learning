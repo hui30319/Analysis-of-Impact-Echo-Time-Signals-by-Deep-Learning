{
 "cells": [
  {
   "cell_type": "code",
   "execution_count": 1,
   "metadata": {},
   "outputs": [],
   "source": [
    "import os\n",
    "\n",
    "import numpy as np\n",
    "import matplotlib.pyplot as plt\n",
    "from scipy.signal import butter, filtfilt, freqz"
   ]
  },
  {
   "cell_type": "code",
   "execution_count": 2,
   "metadata": {},
   "outputs": [],
   "source": [
    "mode=\"average\" # average lowpass original"
   ]
  },
  {
   "cell_type": "code",
   "execution_count": 3,
   "metadata": {},
   "outputs": [],
   "source": [
    "def lowpass_filter(data, cutoff, fs, order=5):\n",
    "    b, a = butter(order, cutoff / (0.5 * fs))\n",
    "    y = filtfilt(b, a, data)\n",
    "    return y\n",
    "\n",
    "def average_filter(data, windows=15):\n",
    "    filter_coef = np.ones(windows) / windows\n",
    "    y = np.convolve(data, filter_coef, mode='same')\n",
    "    return y"
   ]
  },
  {
   "cell_type": "markdown",
   "metadata": {},
   "source": [
    "#### 6cm"
   ]
  },
  {
   "cell_type": "code",
   "execution_count": null,
   "metadata": {},
   "outputs": [],
   "source": [
    "dir = \"./raw/3900_06cm/\"\n",
    "fdirs = [os.path.join(f\"{dir}/\", x) for x in os.listdir(f\"{dir}\")]\n",
    "data = np.loadtxt(fdirs[0])\n",
    "plt.plot(data[:, 0], data[:, 1])\n",
    "fdirs"
   ]
  },
  {
   "cell_type": "code",
   "execution_count": null,
   "metadata": {},
   "outputs": [],
   "source": [
    "v=3900\n",
    "fs = 1e-6\n",
    "ss = 250e-6\n",
    "front = int(ss/fs)\n",
    "for fdir in fdirs[:-1]:\n",
    "    data = np.loadtxt(fdir, skiprows=5)\n",
    "    time = data[:, 0] - data[0,0]\n",
    "    disp = data[:, 1]\n",
    "    plt.plot(time, disp, label=\"original\")\n",
    "    plt.xlim(0, ss)\n",
    "print(front)"
   ]
  },
  {
   "cell_type": "code",
   "execution_count": 6,
   "metadata": {},
   "outputs": [],
   "source": [
    "save_dir = os.path.join(f\"./processed/{mode}/\", \"/\".join(dir.split(\"/\")[2:]))\n",
    "os.makedirs(save_dir, exist_ok=True)\n",
    "os.makedirs(f\"{save_dir}/pics\", exist_ok=True)"
   ]
  },
  {
   "cell_type": "code",
   "execution_count": 7,
   "metadata": {},
   "outputs": [],
   "source": [
    "ccc = []\n",
    "for fdir in fdirs:\n",
    "    plt.figure()\n",
    "    data = np.loadtxt(fdir)\n",
    "    time = data[:, 0] - data[0,0]\n",
    "    disp = -data[:, 1]\n",
    "    plt.plot(time, disp, label=\"original\")\n",
    "\n",
    "    if mode == \"lowpass\":\n",
    "        disp = lowpass_filter(disp, 50000, 1/fs, order=5)\n",
    "        plt.plot(time, disp, label=\"filter\")\n",
    "    if mode == \"average\":\n",
    "        disp = average_filter(disp, windows=int(5e-6/fs))\n",
    "        plt.plot(time, disp, label=\"filter\")\n",
    "\n",
    "    mean = np.mean(disp[:front])\n",
    "    max = np.max(disp[:front])\n",
    "    min = np.min(disp[:front])\n",
    "    std = np.std(disp[:front])\n",
    "\n",
    "    min_index = np.argmin(disp[:600]) - int(100e-6/fs)\n",
    "\n",
    "    for i in range(len(disp)):\n",
    "        # if (disp[i] >= mean+3*std or disp[i] <= mean-3*std) and i > min_index:\n",
    "        if (disp[i] >= max+3*std or disp[i] <= min-3*std) and i > min_index:\n",
    "            start = i\n",
    "            break\n",
    "    start -= int(0.04/v/fs)\n",
    "    # time *= 1e6\n",
    "    # print(start)\n",
    "    plt.scatter(time[start], disp[start], color='red')\n",
    "    plt.xlabel(\"Time(µs)\")\n",
    "    plt.ylabel(\"Displacement\")\n",
    "    plt.title(f\"{start} {np.argmin(disp)}\")\n",
    "    plt.xlim(time[start]-250e-6, time[start]+250e-6)\n",
    "\n",
    "    fname=fdir.split(\"/\")[-1].split(\".\")[0]\n",
    "    plt.savefig(f\"./{save_dir}/pics/{fname}.jpg\")\n",
    "    plt.close()\n",
    "\n",
    "    # # #output of the file\n",
    "    output_time = time[start:] - time[start]\n",
    "    output_disp = disp[start:]\n",
    "    ccc.append(output_time[np.argmin(output_disp)])\n",
    "    fname = fdir.split(\"/\")[-1]\n",
    "    output = np.column_stack([output_time, output_disp])\n",
    "    np.savetxt(f\"./{save_dir}/{fname}\", output, fmt=['%.10e','%.10e'])\n",
    "    c6=ccc"
   ]
  },
  {
   "cell_type": "code",
   "execution_count": null,
   "metadata": {},
   "outputs": [],
   "source": [
    "c_6=np.abs(np.array(c6))\n",
    "print(np.max(c_6))\n",
    "print(np.average(c_6))\n",
    "print(np.std(c_6))\n",
    "print(np.average(c_6)+np.std(c_6)-3.9214599383e-05)"
   ]
  },
  {
   "cell_type": "code",
   "execution_count": null,
   "metadata": {},
   "outputs": [],
   "source": [
    "# check\n",
    "dir = f\"{save_dir}\"# C:\\Users\\LAB227\\Desktop\\exp\\實驗訊號\\自己敲的exp\\10cm\\6mm\n",
    "fdirs = [os.path.join(f\"{dir}/\", x) for x in os.listdir(f\"{dir}\") if x.endswith('.txt')]\n",
    "fdirs\n",
    "for fdir in fdirs:\n",
    "    # plt.figure()\n",
    "    data = np.loadtxt(fdir)\n",
    "    time = data[:, 0]\n",
    "    disp = data[:, 1]\n",
    "    plt.plot(time, disp/-np.min(disp))\n",
    "    plt.title(fdir)\n",
    "    plt.xlim(0,512e-6)"
   ]
  },
  {
   "cell_type": "markdown",
   "metadata": {},
   "source": [
    "#### 10cm"
   ]
  },
  {
   "cell_type": "code",
   "execution_count": null,
   "metadata": {},
   "outputs": [],
   "source": [
    "dir = \"./raw/3717_10cm\"# C:\\Users\\LAB227\\Desktop\\exp\\實驗訊號\\自己敲的exp\\10cm\\6mm\n",
    "fdirs = [os.path.join(f\"{dir}/\", x) for x in os.listdir(f\"{dir}\")]\n",
    "data = np.loadtxt(fdirs[0], skiprows=5)\n",
    "plt.plot(data[:, 0], data[:, 1])\n",
    "fdirs"
   ]
  },
  {
   "cell_type": "code",
   "execution_count": null,
   "metadata": {},
   "outputs": [],
   "source": [
    "v=3717\n",
    "fs = 1.6e-6\n",
    "ss = 250e-6\n",
    "front = int(ss/fs)\n",
    "for fdir in fdirs[:-1]:\n",
    "    data = np.loadtxt(fdir, skiprows=5)\n",
    "    time = data[:, 0] - data[0,0]\n",
    "    disp = data[:, 1]\n",
    "    plt.plot(time, disp, label=\"original\")\n",
    "    plt.xlim(0, ss)"
   ]
  },
  {
   "cell_type": "code",
   "execution_count": 23,
   "metadata": {},
   "outputs": [],
   "source": [
    "save_dir = os.path.join(f\"./processed/{mode}/\", \"/\".join(dir.split(\"/\")[2:]))\n",
    "os.makedirs(save_dir, exist_ok=True)\n",
    "os.makedirs(f\"{save_dir}/pics\", exist_ok=True)"
   ]
  },
  {
   "cell_type": "code",
   "execution_count": 25,
   "metadata": {},
   "outputs": [],
   "source": [
    "ccc = []\n",
    "for fdir in fdirs:\n",
    "    plt.figure()\n",
    "    data = np.loadtxt(fdir, skiprows=5)\n",
    "    time = data[:, 0] - data[0,0]\n",
    "    disp = data[:, 1]\n",
    "    plt.plot(time, disp, label=\"original\")\n",
    "\n",
    "    if mode == \"lowpass\":\n",
    "        disp = lowpass_filter(disp, 50000, 1/fs, order=5)\n",
    "        plt.plot(time, disp, label=\"filter\")\n",
    "    if mode == \"average\":\n",
    "        disp = average_filter(disp, windows=int(5e-6/fs))\n",
    "        plt.plot(time, disp, label=\"filter\")\n",
    "    \n",
    "    mean = np.mean(disp[:front])\n",
    "    max = np.max(disp[:front])\n",
    "    min = np.min(disp[:front])\n",
    "    std = np.std(disp[:front])\n",
    "\n",
    "    \n",
    "    # start = find_trigger_point(disp, max+3*std, min-3*std) - step4cm\n",
    "    min_index = np.argmin(disp[:625]) - int(100e-6/fs)\n",
    "\n",
    "    for i in range(len(disp)):\n",
    "        # if (disp[i] >= mean+3*std or disp[i] <= mean-3*std) and i > min_index:\n",
    "        if (disp[i] >= max+3*std or disp[i] <= min-3*std) and i > min_index:\n",
    "            start = i\n",
    "            break\n",
    "    start -= int(0.04/v/fs)\n",
    "    # time *= 1e6\n",
    "    # print(start)\n",
    "\n",
    "    plt.scatter(time[start], disp[start], color='red')\n",
    "    # plt.plot(time, disp, label=\"original\")\n",
    "    plt.xlabel(\"Time(µs)\")\n",
    "    plt.ylabel(\"Displacement\")\n",
    "    plt.title(f\"{start} {np.argmin(disp)}\")\n",
    "    plt.xlim(time[start]-250e-6, time[start]+250e-6)\n",
    "\n",
    "    fname=fdir.split(\"/\")[-1].split(\".\")[0]\n",
    "    plt.savefig(f\"./{save_dir}/pics/{fname}.jpg\")\n",
    "    plt.close()\n",
    "\n",
    "    # # #output of the file\n",
    "    output_time = time[start:] - time[start]\n",
    "    output_disp = disp[start:]\n",
    "    ccc.append(output_time[np.argmin(output_disp[:200])])\n",
    "    fname = fdir.split(\"/\")[-1]\n",
    "    output = np.column_stack([output_time, output_disp])\n",
    "    np.savetxt(f\"./{save_dir}/{fname}\", output, fmt=['%.10e','%.10e'])\n",
    "    c10=ccc"
   ]
  },
  {
   "cell_type": "code",
   "execution_count": null,
   "metadata": {},
   "outputs": [],
   "source": [
    "c_10=np.abs(np.array(c10))\n",
    "print(np.max(c_10))\n",
    "print(np.average(c_10))\n",
    "print(np.std(c_10))\n",
    "print(np.average(c_10)+np.std(c_10)-3.9214599383e-05)"
   ]
  },
  {
   "cell_type": "code",
   "execution_count": null,
   "metadata": {},
   "outputs": [],
   "source": [
    "# check\n",
    "dir = f\"{save_dir}\"# C:\\Users\\LAB227\\Desktop\\exp\\實驗訊號\\自己敲的exp\\10cm\\6mm\n",
    "fdirs = [os.path.join(f\"{dir}/\", x) for x in os.listdir(f\"{dir}\") if x.endswith('.txt')]\n",
    "fdirs\n",
    "for fdir in fdirs:\n",
    "    data = np.loadtxt(fdir)\n",
    "    time = data[:, 0]\n",
    "    disp = data[:, 1]\n",
    "    plt.plot(time, disp/-np.min(disp))\n",
    "    # plt.title(fdir)\n",
    "    plt.xlim(0,512e-6)"
   ]
  },
  {
   "cell_type": "markdown",
   "metadata": {},
   "source": [
    "### 12-8cm"
   ]
  },
  {
   "cell_type": "code",
   "execution_count": null,
   "metadata": {},
   "outputs": [],
   "source": [
    "dir = \"./raw/3542_12-8cm\"# C:\\Users\\LAB227\\Desktop\\exp\\實驗訊號\\自己敲的exp\\10cm\\6mm\n",
    "fdirs = [os.path.join(f\"{dir}/\", x) for x in os.listdir(f\"{dir}\")]\n",
    "data = np.loadtxt(fdirs[0], skiprows=5)\n",
    "plt.plot(data[:, 0], data[:, 1])\n",
    "fdirs"
   ]
  },
  {
   "cell_type": "code",
   "execution_count": null,
   "metadata": {},
   "outputs": [],
   "source": [
    "v=3542\n",
    "fs = 1.6e-6\n",
    "ss = 250e-6\n",
    "front = int(ss/fs)\n",
    "for fdir in fdirs[:-1]:\n",
    "    data = np.loadtxt(fdir, skiprows=5)\n",
    "    time = data[:, 0] - data[0,0]\n",
    "    disp = data[:, 1]\n",
    "    plt.plot(time, disp, label=\"original\")\n",
    "    plt.xlim(0, ss)"
   ]
  },
  {
   "cell_type": "code",
   "execution_count": 32,
   "metadata": {},
   "outputs": [],
   "source": [
    "save_dir = os.path.join(f\"./processed/{mode}/\", \"/\".join(dir.split(\"/\")[2:]))\n",
    "os.makedirs(save_dir, exist_ok=True)\n",
    "os.makedirs(f\"{save_dir}/pics\", exist_ok=True)"
   ]
  },
  {
   "cell_type": "code",
   "execution_count": 34,
   "metadata": {},
   "outputs": [],
   "source": [
    "ccc=[]\n",
    "for fdir in fdirs:\n",
    "    plt.figure()\n",
    "    data = np.loadtxt(fdir, skiprows=5)\n",
    "    time = data[:, 0] - data[0,0]\n",
    "    disp = data[:, 1]\n",
    "    plt.plot(time, disp, label=\"original\")\n",
    "\n",
    "    if mode == \"lowpass\":\n",
    "        disp = lowpass_filter(disp, 50000, 1/fs, order=5)\n",
    "        plt.plot(time, disp, label=\"filter\")\n",
    "    if mode == \"average\":\n",
    "        disp = average_filter(disp, windows=int(5e-6/fs))\n",
    "        plt.plot(time, disp, label=\"filter\")\n",
    "    \n",
    "    mean = np.mean(disp[:front])\n",
    "    max = np.max(disp[:front])\n",
    "    min = np.min(disp[:front])\n",
    "    std = np.std(disp[:front])\n",
    "\n",
    "    \n",
    "    # start = find_trigger_point(disp, max+3*std, min-3*std) - step4cm\n",
    "    min_index = np.argmin(disp[:625]) - int(100e-6/fs)\n",
    "\n",
    "    for i in range(len(disp)):\n",
    "        # if (disp[i] >= mean+3*std or disp[i] <= mean-3*std) and i > min_index:\n",
    "        if (disp[i] >= max+3*std or disp[i] <= min-3*std) and i > min_index:\n",
    "            start = i\n",
    "            break\n",
    "    start -= int(0.04/v/fs)\n",
    "    # time *= 1e6\n",
    "    # print(start)\n",
    "\n",
    "    plt.scatter(time[start], disp[start], color='red')\n",
    "    # plt.plot(time, disp, label=\"original\")\n",
    "    plt.xlabel(\"Time(µs)\")\n",
    "    plt.ylabel(\"Displacement\")\n",
    "    plt.title(f\"{start} {np.argmin(disp)}\")\n",
    "    plt.xlim(time[start]-250e-6, time[start]+250e-6)\n",
    "\n",
    "    fname=fdir.split(\"/\")[-1].split(\".\")[0]\n",
    "    plt.savefig(f\"./{save_dir}/pics/{fname}.jpg\")\n",
    "    plt.close()\n",
    "\n",
    "    # # #output of the file\n",
    "    output_time = time[start:] - time[start]\n",
    "    output_disp = disp[start:]\n",
    "    a=output_time[np.argmin(output_disp[:200])]\n",
    "    # print(fdir, a)\n",
    "    ccc.append(a)\n",
    "    fname = fdir.split(\"/\")[-1]\n",
    "    output = np.column_stack([output_time, output_disp])\n",
    "    np.savetxt(f\"./{save_dir}/{fname}\", output, fmt=['%.10e','%.10e'])\n",
    "    c12_8=ccc"
   ]
  },
  {
   "cell_type": "code",
   "execution_count": null,
   "metadata": {},
   "outputs": [],
   "source": [
    "c_12_8=np.abs(np.array(c12_8))\n",
    "print(np.max(c_12_8))\n",
    "print(np.average(c_12_8))\n",
    "print(np.std(c_12_8))\n",
    "print(np.average(c_12_8)+np.std(c_12_8)-3.9214599383e-05)"
   ]
  },
  {
   "cell_type": "markdown",
   "metadata": {},
   "source": [
    "#### 14-6cm"
   ]
  },
  {
   "cell_type": "code",
   "execution_count": null,
   "metadata": {},
   "outputs": [],
   "source": [
    "dir = \"./raw/3900_14-6cm\"# C:\\Users\\LAB227\\Desktop\\exp\\實驗訊號\\自己敲的exp\\10cm\\6mm\n",
    "fdirs = [os.path.join(f\"{dir}/\", x) for x in os.listdir(f\"{dir}\")]\n",
    "data = np.loadtxt(fdirs[0], delimiter=\",\")\n",
    "plt.plot(data[:, 0], data[:, 1])\n",
    "fdirs"
   ]
  },
  {
   "cell_type": "code",
   "execution_count": null,
   "metadata": {},
   "outputs": [],
   "source": [
    "v=3900\n",
    "fs = 5e-7\n",
    "ss = 50e-6\n",
    "front = int(ss/fs)\n",
    "for fdir in fdirs[:-1]:\n",
    "    data = np.loadtxt(fdir, delimiter=',')\n",
    "    time = data[:, 0] - data[0,0]\n",
    "    disp = data[:, 1]\n",
    "    plt.plot(time, disp, label=\"original\")\n",
    "    plt.xlim(0, ss)\n",
    "print(front)"
   ]
  },
  {
   "cell_type": "code",
   "execution_count": 38,
   "metadata": {},
   "outputs": [],
   "source": [
    "save_dir = os.path.join(f\"./processed/{mode}/\", \"/\".join(dir.split(\"/\")[2:]))\n",
    "os.makedirs(save_dir, exist_ok=True)\n",
    "os.makedirs(f\"{save_dir}/pics\", exist_ok=True)"
   ]
  },
  {
   "cell_type": "code",
   "execution_count": 40,
   "metadata": {},
   "outputs": [],
   "source": [
    "ccc=[]\n",
    "for fdir in fdirs:\n",
    "    plt.figure()\n",
    "    data = np.loadtxt(fdir, delimiter=',')\n",
    "    time = data[:, 0] - data[0,0]\n",
    "    disp = data[:, 1]\n",
    "    plt.plot(time, disp, label=\"original\")\n",
    "\n",
    "    if mode == \"lowpass\":\n",
    "        disp = lowpass_filter(disp, 50000, 1/fs, order=5)\n",
    "        plt.plot(time, disp, label=\"filter\")\n",
    "    if mode == \"average\":\n",
    "        disp = average_filter(disp, windows=int(5e-6/fs))\n",
    "        plt.plot(time, disp, label=\"filter\")\n",
    "    \n",
    "    mean = np.mean(disp[:front])\n",
    "    max = np.max(disp[:front])\n",
    "    min = np.min(disp[:front])\n",
    "    std = np.std(disp[:front])\n",
    "\n",
    "    min_index = np.argmin(disp[:1000]) - int(50e-6/fs)\n",
    "\n",
    "    for i in range(len(disp)):\n",
    "        # if (disp[i] >= mean+3*std or disp[i] <= mean-3*std) and i > min_index:\n",
    "        if (disp[i] >= max+3*std or disp[i] <= min-3*std) and i > min_index and i < np.argmin(disp[:1200]):\n",
    "        # if (disp[i] >= mean+3*std or disp[i] <= mean-3*std) and i > min_index and i < np.argmin(disp[:1200]):\n",
    "            start = i\n",
    "            break\n",
    "    start -= int(0.04/v/fs)\n",
    "    # time *= 1e6\n",
    "    # print(start)\n",
    "    plt.scatter(time[start], disp[start], color='red')\n",
    "    plt.xlabel(\"Time(µs)\")\n",
    "    plt.ylabel(\"Displacement\")\n",
    "    plt.title(f\"{start} {np.argmin(disp)}\")\n",
    "    plt.xlim(time[start]-250e-6, time[start]+250e-6)\n",
    "\n",
    "    fname=fdir.split(\"/\")[-1].split(\".\")[0]\n",
    "    plt.savefig(f\"./{save_dir}/pics/{fname}.jpg\")\n",
    "    plt.close()\n",
    "\n",
    "    # # #output of the file\n",
    "    output_time = time[start:] - time[start]\n",
    "    output_disp = disp[start:]\n",
    "    ccc.append(output_time[np.argmin(output_disp)])\n",
    "    fname = fdir.split(\"/\")[-1]\n",
    "    output = np.column_stack([output_time, output_disp])\n",
    "    x = fname.split(\"y\")[0].split(\"x\")[-1]\n",
    "    y = fname.split(\".txt\")[0].split(\"y\")[-1]\n",
    "    np.savetxt(f\"./{save_dir}/x{y}y{x}.txt\", output, fmt=['%.10e','%.10e'])\n",
    "    c14_6=ccc"
   ]
  },
  {
   "cell_type": "code",
   "execution_count": null,
   "metadata": {},
   "outputs": [],
   "source": [
    "c_14_6=np.abs(np.array(c14_6))\n",
    "print(np.max(c_14_6))\n",
    "print(np.average(c_14_6))\n",
    "print(np.std(c_14_6))\n",
    "print(np.average(c_14_6)+np.std(c_14_6)-3.9214599383e-05)"
   ]
  },
  {
   "cell_type": "code",
   "execution_count": null,
   "metadata": {},
   "outputs": [],
   "source": [
    "# check\n",
    "dir = f\"{save_dir}\"# C:\\Users\\LAB227\\Desktop\\exp\\實驗訊號\\自己敲的exp\\10cm\\6mm\n",
    "fdirs = [os.path.join(f\"{dir}/\", x) for x in os.listdir(f\"{dir}\") if x.endswith('.txt')]\n",
    "fdirs\n",
    "for fdir in fdirs:\n",
    "    data = np.loadtxt(fdir)\n",
    "    time = data[:, 0]\n",
    "    disp = data[:, 1]\n",
    "    plt.plot(time, disp/-np.min(disp))\n",
    "    # plt.title(fdir)\n",
    "    plt.xlim(0,512e-6)"
   ]
  },
  {
   "cell_type": "markdown",
   "metadata": {},
   "source": [
    "#### 12cm"
   ]
  },
  {
   "cell_type": "code",
   "execution_count": null,
   "metadata": {},
   "outputs": [],
   "source": [
    "dir = \"./raw/raw/3890_12cm\"# C:\\Users\\LAB227\\Desktop\\exp\\實驗訊號\\自己敲的exp\\10cm\\6mm\n",
    "fdirs = [os.path.join(f\"{dir}/\", x) for x in os.listdir(f\"{dir}\") if x.endswith(\".txt\")]\n",
    "data = np.loadtxt(fdirs[0])\n",
    "plt.plot(data)\n",
    "fdirs"
   ]
  },
  {
   "cell_type": "code",
   "execution_count": 44,
   "metadata": {},
   "outputs": [],
   "source": [
    "save_dir = os.path.join(f\"./processed/{mode}/\", \"/\".join(dir.split(\"/\")[2:]))\n",
    "os.makedirs(save_dir, exist_ok=True)\n",
    "os.makedirs(f\"{save_dir}/pics\", exist_ok=True)"
   ]
  },
  {
   "cell_type": "code",
   "execution_count": 45,
   "metadata": {},
   "outputs": [],
   "source": [
    "fs = 5e-7 # 0.003/6000\n",
    "for fdir in fdirs:\n",
    "    plt.figure()\n",
    "    time = np.arange(0, 0.0030004, fs)\n",
    "    disp = np.loadtxt(fdir)\n",
    "    # time = disp[:,0]\n",
    "    plt.plot(time, disp, label=\"original\")\n",
    "\n",
    "    if mode == \"lowpass\":\n",
    "        disp = lowpass_filter(disp, 50000, 1/fs, order=5)\n",
    "        plt.plot(time, disp, label=\"filter\")\n",
    "    if mode == \"average\":\n",
    "        disp = average_filter(disp, windows=int(5e-6/fs))\n",
    "        plt.plot(time, disp, label=\"filter\")\n",
    "\n",
    "    start = 0\n",
    "    plt.xlabel(\"Time(µs)\")\n",
    "    plt.ylabel(\"Displacement\")\n",
    "    plt.title(f\"{start} {np.argmin(disp)}\")\n",
    "    plt.xlim(time[start]-250e-6, time[start]+250e-6)\n",
    "\n",
    "    fname=fdir.split(\"/\")[-1].split(\".\")[0]\n",
    "    plt.savefig(f\"./{save_dir}/pics/{fname}.jpg\")\n",
    "    plt.close()\n",
    "\n",
    "    output_time = time[start:] - time[start]\n",
    "    output_disp = disp[start:]\n",
    "\n",
    "    fname = fdir.split(\"/\")[-1]\n",
    "    output = np.column_stack([output_time, output_disp])\n",
    "    np.savetxt(f\"./{save_dir}/{fname}\", output, fmt=['%.10e','%.10e'])\n"
   ]
  },
  {
   "cell_type": "code",
   "execution_count": null,
   "metadata": {},
   "outputs": [],
   "source": [
    "dir = \"./raw/3890_12cm\"# C:\\Users\\LAB227\\Desktop\\exp\\實驗訊號\\自己敲的exp\\10cm\\6mm\n",
    "fdirs = [os.path.join(f\"{dir}/\", x) for x in os.listdir(f\"{dir}\") if not x.endswith(\".txt\")]\n",
    "data = np.loadtxt(fdirs[0])\n",
    "plt.plot(data)\n",
    "fdirs"
   ]
  },
  {
   "cell_type": "code",
   "execution_count": 47,
   "metadata": {},
   "outputs": [],
   "source": [
    "save_dir = os.path.join(f\"./processed/{mode}/\", \"/\".join(dir.split(\"/\")[2:]))\n",
    "os.makedirs(save_dir, exist_ok=True)\n",
    "os.makedirs(f\"{save_dir}/pics\", exist_ok=True)"
   ]
  },
  {
   "cell_type": "code",
   "execution_count": 48,
   "metadata": {},
   "outputs": [],
   "source": [
    "fs = 0.003/1024\n",
    "for fdir in fdirs:\n",
    "    plt.figure()\n",
    "    time = np.arange(0, 0.003, fs)\n",
    "    disp = np.loadtxt(fdir)\n",
    "\n",
    "    plt.plot(time, disp, label=\"original\")\n",
    "\n",
    "    if mode == \"lowpass\":\n",
    "        disp = lowpass_filter(disp, 50000, 1/fs, order=5)\n",
    "        plt.plot(time, disp, label=\"filter\")\n",
    "    if mode == \"average\":\n",
    "        disp = average_filter(disp, windows=int(5e-6/fs))\n",
    "        plt.plot(time, disp, label=\"filter\")\n",
    "\n",
    "    start = 0\n",
    "    plt.xlabel(\"Time(µs)\")\n",
    "    plt.ylabel(\"Displacement\")\n",
    "    plt.title(f\"{start} {np.argmin(disp)}\")\n",
    "    plt.xlim(time[start]-250e-6, time[start]+250e-6)\n",
    "\n",
    "    fname=fdir.split(\"/\")[-1].split(\".\")[0]\n",
    "    plt.savefig(f\"./{save_dir}/pics/{fname}.jpg\")\n",
    "    plt.close()\n",
    "\n",
    "    output_time = time[start:] - time[start]\n",
    "    output_disp = disp[start:]\n",
    "\n",
    "    fname = fdir.split(\"/\")[-1]\n",
    "    output = np.column_stack([output_time, output_disp])\n",
    "    np.savetxt(f\"./{save_dir}/{fname}.txt\", output, fmt=['%.10e','%.10e'])"
   ]
  },
  {
   "cell_type": "code",
   "execution_count": null,
   "metadata": {},
   "outputs": [],
   "source": [
    "# check\n",
    "dir = f\"{save_dir}\"# C:\\Users\\LAB227\\Desktop\\exp\\實驗訊號\\自己敲的exp\\10cm\\6mm\n",
    "fdirs = [os.path.join(f\"{dir}/\", x) for x in os.listdir(f\"{dir}\") if x.endswith('.txt')]\n",
    "fdirs\n",
    "for fdir in fdirs:\n",
    "    # plt.figure()\n",
    "    data = np.loadtxt(fdir)\n",
    "    time = data[:, 0]\n",
    "    disp = data[:, 1]\n",
    "    plt.plot(time, disp/-np.min(disp))\n",
    "    plt.title(fdir)\n",
    "    plt.xlim(0,512e-6)"
   ]
  },
  {
   "cell_type": "markdown",
   "metadata": {},
   "source": [
    "### 25cm"
   ]
  },
  {
   "cell_type": "code",
   "execution_count": null,
   "metadata": {},
   "outputs": [],
   "source": [
    "# dir = \"../data/rawEXP/3900_25cm\"# C:/Users/LAB227/Desktop/exp/實驗訊號/自己敲的exp/10cm/6mm\n",
    "dir = \"./raw/4039_25cm/6mm\"\n",
    "fdirs = [os.path.join(f\"{dir}/\", x) for x in os.listdir(f\"{dir}\")]\n",
    "data = np.loadtxt(fdirs[0], skiprows=5)\n",
    "plt.plot(data[:, 0], data[:, 1])\n",
    "fdirs"
   ]
  },
  {
   "cell_type": "code",
   "execution_count": null,
   "metadata": {},
   "outputs": [],
   "source": [
    "v=4039\n",
    "fs = 1.6e-6\n",
    "ss = 500e-6\n",
    "front = int(ss/fs)\n",
    "for fdir in fdirs[:-1]:\n",
    "    data = np.loadtxt(fdir, skiprows=5)\n",
    "    time = data[:, 0] - data[0,0]\n",
    "    disp = data[:, 1]\n",
    "    plt.plot(time, disp, label=\"original\")\n",
    "    plt.xlim(0, ss)"
   ]
  },
  {
   "cell_type": "code",
   "execution_count": 52,
   "metadata": {},
   "outputs": [],
   "source": [
    "save_dir = os.path.join(f\"./processed/{mode}/\", \"/\".join(dir.split(\"/\")[2:]))\n",
    "os.makedirs(save_dir, exist_ok=True)\n",
    "os.makedirs(f\"{save_dir}/pics\", exist_ok=True)"
   ]
  },
  {
   "cell_type": "code",
   "execution_count": 53,
   "metadata": {},
   "outputs": [],
   "source": [
    "ccc = []\n",
    "for fdir in fdirs:\n",
    "    plt.figure()\n",
    "    data = np.loadtxt(fdir, skiprows=5)\n",
    "    time = data[:, 0] - data[0,0]\n",
    "    disp = data[:, 1]\n",
    "    plt.plot(time, disp, label=\"original\")\n",
    "\n",
    "    if mode == \"lowpass\":\n",
    "        disp = lowpass_filter(disp, 50000, 1/fs, order=5)\n",
    "        plt.plot(time, disp, label=\"filter\")\n",
    "    if mode == \"average\":\n",
    "        disp = average_filter(disp, windows=int(5e-6/fs))\n",
    "        plt.plot(time, disp, label=\"filter\")\n",
    "    \n",
    "    mean = np.mean(disp[:front])\n",
    "    max = np.max(disp[:front])\n",
    "    min = np.min(disp[:front])\n",
    "    std = np.std(disp[:front])\n",
    "\n",
    "    \n",
    "    # start = find_trigger_point(disp, max+3*std, min-3*std) - step4cm\n",
    "    min_index = np.argmin(disp[:625]) - int(100e-6/fs)\n",
    "\n",
    "    for i in range(len(disp)):\n",
    "        # if (disp[i] >= mean+3*std or disp[i] <= mean-3*std) and i > min_index:\n",
    "        if (disp[i] >= max+3*std or disp[i] <= min-3*std) and i > min_index:\n",
    "            start = i\n",
    "            break\n",
    "    start -= int(0.04/v/fs)\n",
    "    # time *= 1e6\n",
    "    # print(start)\n",
    "\n",
    "    plt.scatter(time[start], disp[start], color='red')\n",
    "    # plt.plot(time, disp, label=\"original\")\n",
    "    plt.xlabel(\"Time(µs)\")\n",
    "    plt.ylabel(\"Displacement\")\n",
    "    plt.title(f\"{start} {np.argmin(disp)}\")\n",
    "    plt.xlim(time[start]-250e-6, time[start]+250e-6)\n",
    "\n",
    "    fname=fdir.split(\"/\")[-1].split(\".\")[0]\n",
    "    plt.savefig(f\"./{save_dir}/pics/{fname}.jpg\")\n",
    "    plt.close()\n",
    "\n",
    "    # # #output of the file\n",
    "    output_time = time[start:] - time[start]\n",
    "    output_disp = disp[start:]\n",
    "    ccc.append(output_time[np.argmin(output_disp)])\n",
    "    fname = fdir.split(\"/\")[-1]\n",
    "    output = np.column_stack([output_time, output_disp])\n",
    "    np.savetxt(f\"./{save_dir}/{fname}\", output, fmt=['%.10e','%.10e'])\n",
    "    c25_6=ccc"
   ]
  },
  {
   "cell_type": "code",
   "execution_count": null,
   "metadata": {},
   "outputs": [],
   "source": [
    "c_25_6=np.abs(np.array(c25_6))\n",
    "print(np.max(c_25_6))\n",
    "print(np.average(c_25_6))\n",
    "print(np.std(c_25_6))\n",
    "print(np.average(c_25_6)+np.std(c_25_6)-3.9214599383e-05)"
   ]
  },
  {
   "cell_type": "markdown",
   "metadata": {},
   "source": [
    "### 25cm 10mm"
   ]
  },
  {
   "cell_type": "code",
   "execution_count": null,
   "metadata": {},
   "outputs": [],
   "source": [
    "# dir = \"../data/rawEXP/3900_25cm\"# C:/Users/LAB227/Desktop/exp/實驗訊號/自己敲的exp/10cm/6mm\n",
    "dir = \"./raw/4039_25cm/10mm\"\n",
    "fdirs = [os.path.join(f\"{dir}/\", x) for x in os.listdir(f\"{dir}\")]\n",
    "data = np.loadtxt(fdirs[0], skiprows=5)\n",
    "plt.plot(data[:, 0], data[:, 1])\n",
    "fdirs"
   ]
  },
  {
   "cell_type": "code",
   "execution_count": null,
   "metadata": {},
   "outputs": [],
   "source": [
    "v=4039\n",
    "fs = 1.6e-6\n",
    "ss = 500e-6\n",
    "front = int(ss/fs)\n",
    "step4cm = int(0.04/3800/fs)\n",
    "for fdir in fdirs[:-1]:\n",
    "    data = np.loadtxt(fdir, skiprows=5)\n",
    "    time = data[:, 0] - data[0,0]\n",
    "    disp = data[:, 1]\n",
    "    plt.plot(time, disp, label=\"original\")\n",
    "    plt.xlim(0, ss)"
   ]
  },
  {
   "cell_type": "code",
   "execution_count": 57,
   "metadata": {},
   "outputs": [],
   "source": [
    "save_dir = os.path.join(f\"./processed/{mode}/\", \"/\".join(dir.split(\"/\")[2:]))\n",
    "os.makedirs(save_dir, exist_ok=True)\n",
    "os.makedirs(f\"{save_dir}/pics\", exist_ok=True)"
   ]
  },
  {
   "cell_type": "code",
   "execution_count": 58,
   "metadata": {},
   "outputs": [],
   "source": [
    "ccc = []\n",
    "for fdir in fdirs:\n",
    "    plt.figure()\n",
    "    data = np.loadtxt(fdir, skiprows=5)\n",
    "    time = data[:, 0] - data[0,0]\n",
    "    disp = data[:, 1]\n",
    "    plt.plot(time, disp, label=\"original\")\n",
    "\n",
    "    if mode == \"lowpass\":\n",
    "        disp = lowpass_filter(disp, 50000, 1/fs, order=5)\n",
    "        plt.plot(time, disp, label=\"filter\")\n",
    "    if mode == \"average\":\n",
    "        disp = average_filter(disp, windows=int(5e-6/fs))\n",
    "        plt.plot(time, disp, label=\"filter\")\n",
    "    \n",
    "    mean = np.mean(disp[:front])\n",
    "    max = np.max(disp[:front])\n",
    "    min = np.min(disp[:front])\n",
    "    std = np.std(disp[:front])\n",
    "\n",
    "    \n",
    "    # start = find_trigger_point(disp, max+3*std, min-3*std) - step4cm\n",
    "    min_index = np.argmin(disp[:625]) - int(100e-6/fs)\n",
    "\n",
    "    for i in range(len(disp)):\n",
    "        # if (disp[i] >= mean+3*std or disp[i] <= mean-3*std) and i > min_index:\n",
    "        if (disp[i] >= max+3*std or disp[i] <= min-3*std) and i > min_index:\n",
    "            start = i\n",
    "            break\n",
    "    start -= int(0.04/v/fs)\n",
    "    # time *= 1e6\n",
    "    # print(start)\n",
    "\n",
    "    plt.scatter(time[start], disp[start], color='red')\n",
    "    # plt.plot(time, disp, label=\"original\")\n",
    "    plt.xlabel(\"Time(µs)\")\n",
    "    plt.ylabel(\"Displacement\")\n",
    "    plt.title(f\"{start} {np.argmin(disp)}\")\n",
    "    plt.xlim(time[start]-250e-6, time[start]+250e-6)\n",
    "\n",
    "    fname=fdir.split(\"/\")[-1].split(\".\")[0]\n",
    "    plt.savefig(f\"./{save_dir}/pics/{fname}.jpg\")\n",
    "    plt.close()\n",
    "\n",
    "    # # #output of the file\n",
    "    output_time = time[start:] - time[start]\n",
    "    output_disp = disp[start:]\n",
    "    ccc.append(output_time[np.argmin(output_disp)])\n",
    "    fname = fdir.split(\"/\")[-1]\n",
    "    output = np.column_stack([output_time, output_disp])\n",
    "    np.savetxt(f\"./{save_dir}/{fname}\", output, fmt=['%.10e','%.10e'])\n",
    "    c25_10=ccc"
   ]
  },
  {
   "cell_type": "code",
   "execution_count": null,
   "metadata": {},
   "outputs": [],
   "source": [
    "c_25_10=np.abs(np.array(c25_10))\n",
    "print(np.max(c_25_10))\n",
    "print(np.average(c_25_10))\n",
    "print(np.std(c_25_10))\n",
    "print(np.average(c_25_10)+np.std(c_25_10)-3.9214599383e-05)"
   ]
  }
 ],
 "metadata": {
  "kernelspec": {
   "display_name": "Python 3",
   "language": "python",
   "name": "python3"
  },
  "language_info": {
   "codemirror_mode": {
    "name": "ipython",
    "version": 3
   },
   "file_extension": ".py",
   "mimetype": "text/x-python",
   "name": "python",
   "nbconvert_exporter": "python",
   "pygments_lexer": "ipython3",
   "version": "3.12.2"
  },
  "orig_nbformat": 4
 },
 "nbformat": 4,
 "nbformat_minor": 2
}
